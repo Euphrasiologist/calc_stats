{
  "metadata": {
    "language_info": {
      "codemirror_mode": {
        "name": "python",
        "version": 3
      },
      "file_extension": ".py",
      "mimetype": "text/x-python",
      "name": "python",
      "nbconvert_exporter": "python",
      "pygments_lexer": "ipython3",
      "version": "3.8"
    },
    "kernelspec": {
      "name": "python",
      "display_name": "Pyolite",
      "language": "python"
    }
  },
  "nbformat_minor": 4,
  "nbformat": 4,
  "cells": [
    {
      "cell_type": "code",
      "source": "# change all of these variables to what they should be!\n# I put 1's to test the script.\n\n# missing\nmissing = 1\n# misjoins\nmisjoins = 1\n# haplotigs removed\nhaps_removed = 1\n\n# pre curation assembly length\nprecur_ass = 1\n# post curation assembly length\npostcur_ass = 1\n\n# pre curation scaffold number\nprecur_scaffs = 1\n# post curation scaffold number\npostcur_scaffs = 1\n\n# pre curation n50\nprecur_n50 = 1\n# post curation n50\npostcur_n50 = 1\n",
      "metadata": {
        "trusted": true
      },
      "execution_count": 3,
      "outputs": []
    },
    {
      "cell_type": "code",
      "source": "print(\"Number of missing/misjoins:\", int(missing) + int(misjoins))\nprint(\"Haplotigs removed:\", int(haps_removed))\nprint(\"Assembly size reduced by:\", round((((int(precur_ass) - int(postcur_ass))/int(precur_ass)) * 100), 2), \"%\")\nprint(\"Scaffold number reduced by:\", round ((((int(precur_scaffs) - int(postcur_scaffs))/int(precur_scaffs)) * 100), 2), \"%\")\nprint(\"Scaffold N50 increased by:\", round ((((int(precur_n50) - int(postcur_n50))/int(precur_n50)) * 100), 2), \"%\")",
      "metadata": {
        "trusted": true
      },
      "execution_count": 4,
      "outputs": [
        {
          "name": "stdout",
          "text": "Number of missing/misjoins: 2\nHaplotigs removed: 1\nAssembly size reduced by: 0.0 %\nScaffold number reduced by: 0.0 %\nScaffold N50 increased by: 0.0 %\n",
          "output_type": "stream"
        }
      ]
    }
  ]
}